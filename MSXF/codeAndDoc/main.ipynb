{
 "cells": [
  {
   "cell_type": "code",
   "execution_count": 1,
   "metadata": {},
   "outputs": [],
   "source": [
    "import pandas as pd\n",
    "import datetime\n",
    "import sys\n",
    "import numpy as np\n",
    "from sklearn.preprocessing import LabelEncoder,OneHotEncoder\n",
    "import xgboost as xgb\n",
    "from xgboost import XGBClassifier\n",
    "import re\n",
    "from sklearn.metrics import roc_auc_score\n",
    "from sklearn.metrics import auc\n",
    "import matplotlib.pylab as plt\n",
    "import matplotlib as mpl\n",
    "mpl.rcParams['font.sans-serif'] = ['SimHei']\n",
    "mpl.rcParams['font.serif'] = ['SimHei']\n",
    "%matplotlib inline\n",
    "\n",
    "import warnings\n",
    "warnings.filterwarnings('ignore')"
   ]
  },
  {
   "cell_type": "markdown",
   "metadata": {},
   "source": [
    "### 训练数据集"
   ]
  },
  {
   "cell_type": "code",
   "execution_count": 2,
   "metadata": {},
   "outputs": [],
   "source": [
    "# 认证信息表特征 120929 x 7\n",
    "\n",
    "# 身份证号、认证时间、电话、申请贷款唯一编号\n",
    "train_auth = pd.read_csv('AI_risk_train_V3.0/train_auth_info.csv',parse_dates = ['auth_time']) # parse_dates指定特征转化为时间\n",
    "\n",
    "#注册时是否有时间\n",
    "train_auth['is_auth_time_authtable'] = train_auth['auth_time'].map(lambda x:0 if str(x) == 'NaT'  else 1)\n",
    "#注册时是否有idcard\n",
    "train_auth['is_idcard_authtable'] = train_auth['id_card'].map(lambda x:0 if str(x)=='nan' else 1)\n",
    "\n",
    "#注册时是否有phone\n",
    "train_auth['is_phone_authtable'] = train_auth['phone'].map(lambda x:0 if str(x)=='nan' else 1)"
   ]
  },
  {
   "cell_type": "code",
   "execution_count": 3,
   "metadata": {},
   "outputs": [
    {
     "data": {
      "text/html": [
       "<div>\n",
       "<style scoped>\n",
       "    .dataframe tbody tr th:only-of-type {\n",
       "        vertical-align: middle;\n",
       "    }\n",
       "\n",
       "    .dataframe tbody tr th {\n",
       "        vertical-align: top;\n",
       "    }\n",
       "\n",
       "    .dataframe thead th {\n",
       "        text-align: right;\n",
       "    }\n",
       "</style>\n",
       "<table border=\"1\" class=\"dataframe\">\n",
       "  <thead>\n",
       "    <tr style=\"text-align: right;\">\n",
       "      <th></th>\n",
       "      <th>id_card</th>\n",
       "      <th>auth_time</th>\n",
       "      <th>phone</th>\n",
       "      <th>id</th>\n",
       "      <th>is_auth_time_authtable</th>\n",
       "      <th>is_idcard_authtable</th>\n",
       "      <th>is_phone_authtable</th>\n",
       "    </tr>\n",
       "  </thead>\n",
       "  <tbody>\n",
       "    <tr>\n",
       "      <th>0</th>\n",
       "      <td>4****************0</td>\n",
       "      <td>2017-06-10</td>\n",
       "      <td>132****2008</td>\n",
       "      <td>501951980776722440</td>\n",
       "      <td>1</td>\n",
       "      <td>1</td>\n",
       "      <td>1</td>\n",
       "    </tr>\n",
       "    <tr>\n",
       "      <th>1</th>\n",
       "      <td>NaN</td>\n",
       "      <td>NaT</td>\n",
       "      <td>187*****500</td>\n",
       "      <td>525890212484616200</td>\n",
       "      <td>0</td>\n",
       "      <td>0</td>\n",
       "      <td>1</td>\n",
       "    </tr>\n",
       "    <tr>\n",
       "      <th>2</th>\n",
       "      <td>5****************9</td>\n",
       "      <td>2015-10-10</td>\n",
       "      <td>135****3522</td>\n",
       "      <td>599309364691472392</td>\n",
       "      <td>1</td>\n",
       "      <td>1</td>\n",
       "      <td>1</td>\n",
       "    </tr>\n",
       "    <tr>\n",
       "      <th>3</th>\n",
       "      <td>NaN</td>\n",
       "      <td>NaT</td>\n",
       "      <td>136*****651</td>\n",
       "      <td>582559913071350024</td>\n",
       "      <td>0</td>\n",
       "      <td>0</td>\n",
       "      <td>1</td>\n",
       "    </tr>\n",
       "    <tr>\n",
       "      <th>4</th>\n",
       "      <td>3****************0</td>\n",
       "      <td>2016-12-19</td>\n",
       "      <td>137****4241</td>\n",
       "      <td>599017959926534408</td>\n",
       "      <td>1</td>\n",
       "      <td>1</td>\n",
       "      <td>1</td>\n",
       "    </tr>\n",
       "  </tbody>\n",
       "</table>\n",
       "</div>"
      ],
      "text/plain": [
       "              id_card  auth_time        phone                  id  \\\n",
       "0  4****************0 2017-06-10  132****2008  501951980776722440   \n",
       "1                 NaN        NaT  187*****500  525890212484616200   \n",
       "2  5****************9 2015-10-10  135****3522  599309364691472392   \n",
       "3                 NaN        NaT  136*****651  582559913071350024   \n",
       "4  3****************0 2016-12-19  137****4241  599017959926534408   \n",
       "\n",
       "   is_auth_time_authtable  is_idcard_authtable  is_phone_authtable  \n",
       "0                       1                    1                   1  \n",
       "1                       0                    0                   1  \n",
       "2                       1                    1                   1  \n",
       "3                       0                    0                   1  \n",
       "4                       1                    1                   1  "
      ]
     },
     "execution_count": 3,
     "metadata": {},
     "output_type": "execute_result"
    }
   ],
   "source": [
    "train_auth.head()"
   ]
  },
  {
   "cell_type": "code",
   "execution_count": 5,
   "metadata": {},
   "outputs": [],
   "source": [
    "#%%银行卡特征   315489 x 6\n",
    "\n",
    "\n",
    "# 银行卡名称、卡号后四位、类型、电话、申请贷款唯一编号\n",
    "train_bankcard = pd.read_csv('AI_risk_train_V3.0/train_bankcard_info.csv')\n",
    "# 每个id的不同银行卡的个数\n",
    "bank_name_setlen = train_bankcard.groupby(by= ['id'], as_index= False)['bank_name'].agg({'bank_name_len':'nunique'})#lambda x:len(set(x))\n",
    "# 每个id的手机后四位个数\n",
    "bank_num_len = train_bankcard.groupby(by= ['id'], as_index = False)['tail_num'].agg({'tail_num_len':'count'})# lambda x:len(x)\n",
    "# 每个id不同手机号的个数\n",
    "bank_phone_num_setlen = train_bankcard.groupby(by= ['id'], as_index = False)['phone'].agg({'bank_phone_num':'nunique'})#lambda x:x.nunique()\n",
    "# 将银行卡类型转化为相应的权重\n",
    "train_bankcard['card_type_score'] = train_bankcard['card_type'].map(lambda x:0.0154925 if x=='信用卡' else 0.02607069)\n",
    "# 每个id银行卡类型得分的均值\n",
    "bank_card_type_score = train_bankcard.groupby(by= ['id'], as_index = False)['card_type_score'].agg({'card_type_score_mean':np.mean})\n"
   ]
  },
  {
   "cell_type": "code",
   "execution_count": 6,
   "metadata": {},
   "outputs": [
    {
     "data": {
      "text/html": [
       "<div>\n",
       "<style scoped>\n",
       "    .dataframe tbody tr th:only-of-type {\n",
       "        vertical-align: middle;\n",
       "    }\n",
       "\n",
       "    .dataframe tbody tr th {\n",
       "        vertical-align: top;\n",
       "    }\n",
       "\n",
       "    .dataframe thead th {\n",
       "        text-align: right;\n",
       "    }\n",
       "</style>\n",
       "<table border=\"1\" class=\"dataframe\">\n",
       "  <thead>\n",
       "    <tr style=\"text-align: right;\">\n",
       "      <th></th>\n",
       "      <th>bank_name</th>\n",
       "      <th>tail_num</th>\n",
       "      <th>card_type</th>\n",
       "      <th>phone</th>\n",
       "      <th>id</th>\n",
       "      <th>card_type_score</th>\n",
       "    </tr>\n",
       "  </thead>\n",
       "  <tbody>\n",
       "    <tr>\n",
       "      <th>0</th>\n",
       "      <td>中信银行</td>\n",
       "      <td>9753</td>\n",
       "      <td>储蓄卡</td>\n",
       "      <td>177****8427</td>\n",
       "      <td>585401206734589960</td>\n",
       "      <td>0.026071</td>\n",
       "    </tr>\n",
       "    <tr>\n",
       "      <th>1</th>\n",
       "      <td>农业银行</td>\n",
       "      <td>2174</td>\n",
       "      <td>储蓄卡</td>\n",
       "      <td>150****4551</td>\n",
       "      <td>587694980785508360</td>\n",
       "      <td>0.026071</td>\n",
       "    </tr>\n",
       "    <tr>\n",
       "      <th>2</th>\n",
       "      <td>中国交通银行</td>\n",
       "      <td>4832</td>\n",
       "      <td>信用卡</td>\n",
       "      <td>185****1989</td>\n",
       "      <td>602098357531316232</td>\n",
       "      <td>0.015492</td>\n",
       "    </tr>\n",
       "    <tr>\n",
       "      <th>3</th>\n",
       "      <td>北京银行</td>\n",
       "      <td>5697</td>\n",
       "      <td>储蓄卡</td>\n",
       "      <td>186****1634</td>\n",
       "      <td>567205103669350408</td>\n",
       "      <td>0.026071</td>\n",
       "    </tr>\n",
       "    <tr>\n",
       "      <th>4</th>\n",
       "      <td>中信银行</td>\n",
       "      <td>7703</td>\n",
       "      <td>储蓄卡</td>\n",
       "      <td>158****7655</td>\n",
       "      <td>577538085852549384</td>\n",
       "      <td>0.026071</td>\n",
       "    </tr>\n",
       "  </tbody>\n",
       "</table>\n",
       "</div>"
      ],
      "text/plain": [
       "  bank_name  tail_num card_type        phone                  id  \\\n",
       "0      中信银行      9753       储蓄卡  177****8427  585401206734589960   \n",
       "1      农业银行      2174       储蓄卡  150****4551  587694980785508360   \n",
       "2    中国交通银行      4832       信用卡  185****1989  602098357531316232   \n",
       "3      北京银行      5697       储蓄卡  186****1634  567205103669350408   \n",
       "4      中信银行      7703       储蓄卡  158****7655  577538085852549384   \n",
       "\n",
       "   card_type_score  \n",
       "0         0.026071  \n",
       "1         0.026071  \n",
       "2         0.015492  \n",
       "3         0.026071  \n",
       "4         0.026071  "
      ]
     },
     "execution_count": 6,
     "metadata": {},
     "output_type": "execute_result"
    }
   ],
   "source": [
    "train_bankcard.head()"
   ]
  },
  {
   "cell_type": "code",
   "execution_count": 8,
   "metadata": {},
   "outputs": [
    {
     "name": "stdout",
     "output_type": "stream",
     "text": [
      "(120929, 5)\n"
     ]
    },
    {
     "data": {
      "text/html": [
       "<div>\n",
       "<style scoped>\n",
       "    .dataframe tbody tr th:only-of-type {\n",
       "        vertical-align: middle;\n",
       "    }\n",
       "\n",
       "    .dataframe tbody tr th {\n",
       "        vertical-align: top;\n",
       "    }\n",
       "\n",
       "    .dataframe thead th {\n",
       "        text-align: right;\n",
       "    }\n",
       "</style>\n",
       "<table border=\"1\" class=\"dataframe\">\n",
       "  <thead>\n",
       "    <tr style=\"text-align: right;\">\n",
       "      <th></th>\n",
       "      <th>credit_score</th>\n",
       "      <th>overdraft</th>\n",
       "      <th>quota</th>\n",
       "      <th>id</th>\n",
       "      <th>can_use_credittable</th>\n",
       "    </tr>\n",
       "  </thead>\n",
       "  <tbody>\n",
       "    <tr>\n",
       "      <th>0</th>\n",
       "      <td>549.0</td>\n",
       "      <td>0.0</td>\n",
       "      <td>0.0</td>\n",
       "      <td>563888070781309192</td>\n",
       "      <td>0.0</td>\n",
       "    </tr>\n",
       "    <tr>\n",
       "      <th>1</th>\n",
       "      <td>400.0</td>\n",
       "      <td>0.0</td>\n",
       "      <td>0.0</td>\n",
       "      <td>591567740590887176</td>\n",
       "      <td>0.0</td>\n",
       "    </tr>\n",
       "    <tr>\n",
       "      <th>2</th>\n",
       "      <td>490.0</td>\n",
       "      <td>4955.9</td>\n",
       "      <td>5083.0</td>\n",
       "      <td>464888846169936136</td>\n",
       "      <td>127.1</td>\n",
       "    </tr>\n",
       "    <tr>\n",
       "      <th>3</th>\n",
       "      <td>387.0</td>\n",
       "      <td>0.0</td>\n",
       "      <td>0.0</td>\n",
       "      <td>514996919311798280</td>\n",
       "      <td>0.0</td>\n",
       "    </tr>\n",
       "    <tr>\n",
       "      <th>4</th>\n",
       "      <td>394.0</td>\n",
       "      <td>0.0</td>\n",
       "      <td>0.0</td>\n",
       "      <td>20160629090004442243</td>\n",
       "      <td>0.0</td>\n",
       "    </tr>\n",
       "  </tbody>\n",
       "</table>\n",
       "</div>"
      ],
      "text/plain": [
       "   credit_score  overdraft   quota                    id  can_use_credittable\n",
       "0         549.0        0.0     0.0    563888070781309192                  0.0\n",
       "1         400.0        0.0     0.0    591567740590887176                  0.0\n",
       "2         490.0     4955.9  5083.0    464888846169936136                127.1\n",
       "3         387.0        0.0     0.0    514996919311798280                  0.0\n",
       "4         394.0        0.0     0.0  20160629090004442243                  0.0"
      ]
     },
     "execution_count": 8,
     "metadata": {},
     "output_type": "execute_result"
    }
   ],
   "source": [
    "#%%网购平台信用信息特征\n",
    "\n",
    "# {credit_score:'网购平台信用评分',overdraft:'网购平台信用额度使用值',quota:'网购平台信用额度',id:'申请贷款唯一编号'}\n",
    "train_credit = pd.read_csv('AI_risk_train_V3.0/train_credit_info.csv')\n",
    "#剩余额度\n",
    "train_credit['can_use_credittable'] = train_credit['quota'] - train_credit['overdraft']\n",
    "\n",
    "print(train_credit.shape)\n",
    "train_credit.head()"
   ]
  },
  {
   "cell_type": "code",
   "execution_count": 9,
   "metadata": {},
   "outputs": [
    {
     "name": "stdout",
     "output_type": "stream",
     "text": [
      "(2415645, 13)\n"
     ]
    },
    {
     "data": {
      "text/html": [
       "<div>\n",
       "<style scoped>\n",
       "    .dataframe tbody tr th:only-of-type {\n",
       "        vertical-align: middle;\n",
       "    }\n",
       "\n",
       "    .dataframe tbody tr th {\n",
       "        vertical-align: top;\n",
       "    }\n",
       "\n",
       "    .dataframe thead th {\n",
       "        text-align: right;\n",
       "    }\n",
       "</style>\n",
       "<table border=\"1\" class=\"dataframe\">\n",
       "  <thead>\n",
       "    <tr style=\"text-align: right;\">\n",
       "      <th></th>\n",
       "      <th>amt_order</th>\n",
       "      <th>type_pay</th>\n",
       "      <th>time_order</th>\n",
       "      <th>sts_order</th>\n",
       "      <th>phone</th>\n",
       "      <th>unit_price</th>\n",
       "      <th>id</th>\n",
       "      <th>no_order_md5</th>\n",
       "      <th>name_rec_md5</th>\n",
       "      <th>product_id_md5</th>\n",
       "      <th>amt_order_ordertable</th>\n",
       "      <th>unit_price_ordertable</th>\n",
       "      <th>time_order_ordertable</th>\n",
       "    </tr>\n",
       "  </thead>\n",
       "  <tbody>\n",
       "    <tr>\n",
       "      <th>0</th>\n",
       "      <td>39.0</td>\n",
       "      <td>在线支付</td>\n",
       "      <td>2017-04-15 09:21:18</td>\n",
       "      <td>等待收货</td>\n",
       "      <td>159****2937</td>\n",
       "      <td>NaN</td>\n",
       "      <td>609460154345197832</td>\n",
       "      <td>ae3b7fd144ff7ee8658d92137a924836</td>\n",
       "      <td>afeb593025b37afbe8179c456b8855f1</td>\n",
       "      <td>NaN</td>\n",
       "      <td>39.0</td>\n",
       "      <td>NaN</td>\n",
       "      <td>2017-04-15 09:21:18</td>\n",
       "    </tr>\n",
       "    <tr>\n",
       "      <th>1</th>\n",
       "      <td>39.0</td>\n",
       "      <td>在线支付</td>\n",
       "      <td>2017-04-15 09:21:18</td>\n",
       "      <td>完成</td>\n",
       "      <td>159****2937</td>\n",
       "      <td>NaN</td>\n",
       "      <td>609460154345197832</td>\n",
       "      <td>ae3b7fd144ff7ee8658d92137a924836</td>\n",
       "      <td>afeb593025b37afbe8179c456b8855f1</td>\n",
       "      <td>NaN</td>\n",
       "      <td>39.0</td>\n",
       "      <td>NaN</td>\n",
       "      <td>2017-04-15 09:21:18</td>\n",
       "    </tr>\n",
       "    <tr>\n",
       "      <th>2</th>\n",
       "      <td>288.0</td>\n",
       "      <td>在线支付</td>\n",
       "      <td>2016-10-24 08:57:06</td>\n",
       "      <td>NaN</td>\n",
       "      <td>137****8223</td>\n",
       "      <td>NaN</td>\n",
       "      <td>609460154345197832</td>\n",
       "      <td>1d7b1294cdbfe24815e39c458cd059d1</td>\n",
       "      <td>eac9416f834d481d7c88da6134468d03</td>\n",
       "      <td>NaN</td>\n",
       "      <td>288.0</td>\n",
       "      <td>NaN</td>\n",
       "      <td>2016-10-24 08:57:06</td>\n",
       "    </tr>\n",
       "    <tr>\n",
       "      <th>3</th>\n",
       "      <td>428.0</td>\n",
       "      <td>在线支付</td>\n",
       "      <td>2016-10-27 20:04:48</td>\n",
       "      <td>完成</td>\n",
       "      <td>137****8223</td>\n",
       "      <td>NaN</td>\n",
       "      <td>609460154345197832</td>\n",
       "      <td>51ee194476e14e9976db834c08f20e21</td>\n",
       "      <td>eac9416f834d481d7c88da6134468d03</td>\n",
       "      <td>NaN</td>\n",
       "      <td>428.0</td>\n",
       "      <td>NaN</td>\n",
       "      <td>2016-10-27 20:04:48</td>\n",
       "    </tr>\n",
       "    <tr>\n",
       "      <th>4</th>\n",
       "      <td>428.0</td>\n",
       "      <td>在线支付</td>\n",
       "      <td>2016-10-27 20:04:48</td>\n",
       "      <td>NaN</td>\n",
       "      <td>137****8223</td>\n",
       "      <td>NaN</td>\n",
       "      <td>609460154345197832</td>\n",
       "      <td>51ee194476e14e9976db834c08f20e21</td>\n",
       "      <td>eac9416f834d481d7c88da6134468d03</td>\n",
       "      <td>NaN</td>\n",
       "      <td>428.0</td>\n",
       "      <td>NaN</td>\n",
       "      <td>2016-10-27 20:04:48</td>\n",
       "    </tr>\n",
       "  </tbody>\n",
       "</table>\n",
       "</div>"
      ],
      "text/plain": [
       "   amt_order type_pay           time_order sts_order        phone  unit_price  \\\n",
       "0       39.0     在线支付  2017-04-15 09:21:18      等待收货  159****2937         NaN   \n",
       "1       39.0     在线支付  2017-04-15 09:21:18        完成  159****2937         NaN   \n",
       "2      288.0     在线支付  2016-10-24 08:57:06       NaN  137****8223         NaN   \n",
       "3      428.0     在线支付  2016-10-27 20:04:48        完成  137****8223         NaN   \n",
       "4      428.0     在线支付  2016-10-27 20:04:48       NaN  137****8223         NaN   \n",
       "\n",
       "                   id                      no_order_md5  \\\n",
       "0  609460154345197832  ae3b7fd144ff7ee8658d92137a924836   \n",
       "1  609460154345197832  ae3b7fd144ff7ee8658d92137a924836   \n",
       "2  609460154345197832  1d7b1294cdbfe24815e39c458cd059d1   \n",
       "3  609460154345197832  51ee194476e14e9976db834c08f20e21   \n",
       "4  609460154345197832  51ee194476e14e9976db834c08f20e21   \n",
       "\n",
       "                       name_rec_md5 product_id_md5  amt_order_ordertable  \\\n",
       "0  afeb593025b37afbe8179c456b8855f1            NaN                  39.0   \n",
       "1  afeb593025b37afbe8179c456b8855f1            NaN                  39.0   \n",
       "2  eac9416f834d481d7c88da6134468d03            NaN                 288.0   \n",
       "3  eac9416f834d481d7c88da6134468d03            NaN                 428.0   \n",
       "4  eac9416f834d481d7c88da6134468d03            NaN                 428.0   \n",
       "\n",
       "   unit_price_ordertable time_order_ordertable  \n",
       "0                    NaN   2017-04-15 09:21:18  \n",
       "1                    NaN   2017-04-15 09:21:18  \n",
       "2                    NaN   2016-10-24 08:57:06  \n",
       "3                    NaN   2016-10-27 20:04:48  \n",
       "4                    NaN   2016-10-27 20:04:48  "
      ]
     },
     "execution_count": 9,
     "metadata": {},
     "output_type": "execute_result"
    }
   ],
   "source": [
    "#%%订单信息表特征 2415645×10 \n",
    "\n",
    "# {amt_order:'订单金额',type_pay:'支付方式',time_order:'下单时间',sts_order:'订单状态',phone:'收货电话',\n",
    "# unit_price:'商品单价',id:'申请贷款唯一编号',no_order_md5:'订单编号md5加密',name_rec_md5:'收货人姓名md5加密',\n",
    "# product_id_md5:'收货编号md5加密'}\n",
    "train_order = pd.read_csv('AI_risk_train_V3.0/train_order_info.csv',parse_dates=['time_order'])\n",
    "train_order['amt_order_ordertable'] = train_order['amt_order'].map(lambda x:np.nan if ((x == 'NA')| (x == 'null')) else float(x))\n",
    "train_order['unit_price_ordertable'] = train_order['unit_price'].map(lambda x:np.nan if ((x == 'NA')| (x == 'null')) else float(x))\n",
    "\n",
    "train_order['time_order_ordertable'] = train_order['time_order'].map(lambda x : pd.lib.NaT if (str(x) == '0' or x == 'NA' or x == 'nan')\n",
    "                            else (datetime.datetime.strptime(str(x),'%Y-%m-%d %H:%M:%S') if ':' in str(x)\n",
    "                            else (datetime.datetime.utcfromtimestamp(int(x[0:10])) + datetime.timedelta(hours = 8))))\n",
    "\n",
    "\n",
    "print(train_order.shape)\n",
    "train_order.head()"
   ]
  },
  {
   "cell_type": "code",
   "execution_count": 10,
   "metadata": {},
   "outputs": [],
   "source": [
    "#%%收货地址信息特征 261299 x6\n",
    "\n",
    "#{addr_id:'收货地址id',region:'收货地址所在地区',phone:'收货人手机号',fix_phone:'收货人固定电话',receiver_md5,'收货人姓名md5加密'}\n",
    "train_recieve = pd.read_csv('AI_risk_train_V3.0/train_recieve_addr_info.csv')\n",
    "train_recieve['region_province'] = train_recieve['region'].map(lambda x:str(x)[:2]) # 只取前面两位，即省份\n",
    "train_recieve['region_district'] = train_recieve['region'].map(lambda x:str(x)[-1])"
   ]
  },
  {
   "cell_type": "code",
   "execution_count": 11,
   "metadata": {},
   "outputs": [
    {
     "data": {
      "text/html": [
       "<div>\n",
       "<style scoped>\n",
       "    .dataframe tbody tr th:only-of-type {\n",
       "        vertical-align: middle;\n",
       "    }\n",
       "\n",
       "    .dataframe tbody tr th {\n",
       "        vertical-align: top;\n",
       "    }\n",
       "\n",
       "    .dataframe thead th {\n",
       "        text-align: right;\n",
       "    }\n",
       "</style>\n",
       "<table border=\"1\" class=\"dataframe\">\n",
       "  <thead>\n",
       "    <tr style=\"text-align: right;\">\n",
       "      <th></th>\n",
       "      <th>addr_id</th>\n",
       "      <th>region</th>\n",
       "      <th>phone</th>\n",
       "      <th>fix_phone</th>\n",
       "      <th>id</th>\n",
       "      <th>receiver_md5</th>\n",
       "      <th>region_province</th>\n",
       "      <th>region_district</th>\n",
       "    </tr>\n",
       "  </thead>\n",
       "  <tbody>\n",
       "    <tr>\n",
       "      <th>0</th>\n",
       "      <td>NaN</td>\n",
       "      <td>NaN</td>\n",
       "      <td>NaN</td>\n",
       "      <td>NaN</td>\n",
       "      <td>575150029610684424</td>\n",
       "      <td>NaN</td>\n",
       "      <td>na</td>\n",
       "      <td>n</td>\n",
       "    </tr>\n",
       "    <tr>\n",
       "      <th>1</th>\n",
       "      <td>137816020.0</td>\n",
       "      <td>辽宁营口市鲅鱼圈区芦屯镇</td>\n",
       "      <td>186****4600</td>\n",
       "      <td>186****4600</td>\n",
       "      <td>563888070781309192</td>\n",
       "      <td>798371eaefb014d304e8c90ba0af1d09</td>\n",
       "      <td>辽宁</td>\n",
       "      <td>镇</td>\n",
       "    </tr>\n",
       "    <tr>\n",
       "      <th>2</th>\n",
       "      <td>137630418.0</td>\n",
       "      <td>辽宁营口市鲅鱼圈区红海街道</td>\n",
       "      <td>159****1000</td>\n",
       "      <td>159****1000</td>\n",
       "      <td>563888070781309192</td>\n",
       "      <td>41c14ef94733b4587f11ffb64e58a72d</td>\n",
       "      <td>辽宁</td>\n",
       "      <td>道</td>\n",
       "    </tr>\n",
       "    <tr>\n",
       "      <th>3</th>\n",
       "      <td>137816021.0</td>\n",
       "      <td>辽宁营口市鲅鱼圈区芦屯镇</td>\n",
       "      <td>186****4600</td>\n",
       "      <td>NaN</td>\n",
       "      <td>563888070781309192</td>\n",
       "      <td>798371eaefb014d304e8c90ba0af1d09</td>\n",
       "      <td>辽宁</td>\n",
       "      <td>镇</td>\n",
       "    </tr>\n",
       "    <tr>\n",
       "      <th>4</th>\n",
       "      <td>138135925.0</td>\n",
       "      <td>辽宁营口市鲅鱼圈区芦屯镇</td>\n",
       "      <td>189****9687</td>\n",
       "      <td>189****9687</td>\n",
       "      <td>563888070781309192</td>\n",
       "      <td>2d3e7dc595265a37f1e9eee82a15b047</td>\n",
       "      <td>辽宁</td>\n",
       "      <td>镇</td>\n",
       "    </tr>\n",
       "  </tbody>\n",
       "</table>\n",
       "</div>"
      ],
      "text/plain": [
       "       addr_id         region        phone    fix_phone                  id  \\\n",
       "0          NaN            NaN          NaN          NaN  575150029610684424   \n",
       "1  137816020.0   辽宁营口市鲅鱼圈区芦屯镇  186****4600  186****4600  563888070781309192   \n",
       "2  137630418.0  辽宁营口市鲅鱼圈区红海街道  159****1000  159****1000  563888070781309192   \n",
       "3  137816021.0   辽宁营口市鲅鱼圈区芦屯镇  186****4600          NaN  563888070781309192   \n",
       "4  138135925.0   辽宁营口市鲅鱼圈区芦屯镇  189****9687  189****9687  563888070781309192   \n",
       "\n",
       "                       receiver_md5 region_province region_district  \n",
       "0                               NaN              na               n  \n",
       "1  798371eaefb014d304e8c90ba0af1d09              辽宁               镇  \n",
       "2  41c14ef94733b4587f11ffb64e58a72d              辽宁               道  \n",
       "3  798371eaefb014d304e8c90ba0af1d09              辽宁               镇  \n",
       "4  2d3e7dc595265a37f1e9eee82a15b047              辽宁               镇  "
      ]
     },
     "execution_count": 11,
     "metadata": {},
     "output_type": "execute_result"
    }
   ],
   "source": [
    "train_recieve.head()"
   ]
  },
  {
   "cell_type": "code",
   "execution_count": 12,
   "metadata": {},
   "outputs": [
    {
     "data": {
      "text/html": [
       "<div>\n",
       "<style scoped>\n",
       "    .dataframe tbody tr th:only-of-type {\n",
       "        vertical-align: middle;\n",
       "    }\n",
       "\n",
       "    .dataframe tbody tr th {\n",
       "        vertical-align: top;\n",
       "    }\n",
       "\n",
       "    .dataframe thead th {\n",
       "        text-align: right;\n",
       "    }\n",
       "</style>\n",
       "<table border=\"1\" class=\"dataframe\">\n",
       "  <thead>\n",
       "    <tr style=\"text-align: right;\">\n",
       "      <th></th>\n",
       "      <th>sex</th>\n",
       "      <th>birthday</th>\n",
       "      <th>hobby</th>\n",
       "      <th>merriage</th>\n",
       "      <th>income</th>\n",
       "      <th>degree</th>\n",
       "      <th>industry</th>\n",
       "      <th>qq_bound</th>\n",
       "      <th>wechat_bound</th>\n",
       "      <th>account_grade</th>\n",
       "      <th>id</th>\n",
       "      <th>is_hobby_usertable</th>\n",
       "      <th>is_birthday_usertable</th>\n",
       "    </tr>\n",
       "  </thead>\n",
       "  <tbody>\n",
       "    <tr>\n",
       "      <th>0</th>\n",
       "      <td>保密</td>\n",
       "      <td>NaT</td>\n",
       "      <td>NaN</td>\n",
       "      <td>NaN</td>\n",
       "      <td>NaN</td>\n",
       "      <td>NaN</td>\n",
       "      <td>NaN</td>\n",
       "      <td>未绑定</td>\n",
       "      <td>已绑定</td>\n",
       "      <td>铜牌会员</td>\n",
       "      <td>588238879438409736</td>\n",
       "      <td>0</td>\n",
       "      <td>0</td>\n",
       "    </tr>\n",
       "    <tr>\n",
       "      <th>1</th>\n",
       "      <td>保密</td>\n",
       "      <td>NaT</td>\n",
       "      <td>NaN</td>\n",
       "      <td>NaN</td>\n",
       "      <td>NaN</td>\n",
       "      <td>NaN</td>\n",
       "      <td>NaN</td>\n",
       "      <td>已绑定</td>\n",
       "      <td>未绑定</td>\n",
       "      <td>铜牌会员</td>\n",
       "      <td>601460242772922632</td>\n",
       "      <td>0</td>\n",
       "      <td>0</td>\n",
       "    </tr>\n",
       "    <tr>\n",
       "      <th>2</th>\n",
       "      <td>保密</td>\n",
       "      <td>NaT</td>\n",
       "      <td>NaN</td>\n",
       "      <td>NaN</td>\n",
       "      <td>NaN</td>\n",
       "      <td>NaN</td>\n",
       "      <td>NaN</td>\n",
       "      <td>未绑定</td>\n",
       "      <td>已绑定</td>\n",
       "      <td>金牌会员</td>\n",
       "      <td>601137941405765640</td>\n",
       "      <td>0</td>\n",
       "      <td>0</td>\n",
       "    </tr>\n",
       "    <tr>\n",
       "      <th>3</th>\n",
       "      <td>保密</td>\n",
       "      <td>NaT</td>\n",
       "      <td>NaN</td>\n",
       "      <td>NaN</td>\n",
       "      <td>NaN</td>\n",
       "      <td>NaN</td>\n",
       "      <td>NaN</td>\n",
       "      <td>已绑定</td>\n",
       "      <td>未绑定</td>\n",
       "      <td>注册会员</td>\n",
       "      <td>20160429090002533592</td>\n",
       "      <td>0</td>\n",
       "      <td>0</td>\n",
       "    </tr>\n",
       "    <tr>\n",
       "      <th>4</th>\n",
       "      <td>男</td>\n",
       "      <td>NaT</td>\n",
       "      <td>NaN</td>\n",
       "      <td>NaN</td>\n",
       "      <td>NaN</td>\n",
       "      <td>NaN</td>\n",
       "      <td>NaN</td>\n",
       "      <td>已绑定</td>\n",
       "      <td>未绑定</td>\n",
       "      <td>注册会员</td>\n",
       "      <td>613466575764197640</td>\n",
       "      <td>0</td>\n",
       "      <td>0</td>\n",
       "    </tr>\n",
       "  </tbody>\n",
       "</table>\n",
       "</div>"
      ],
      "text/plain": [
       "  sex birthday hobby merriage income degree industry qq_bound wechat_bound  \\\n",
       "0  保密      NaT   NaN      NaN    NaN    NaN      NaN      未绑定          已绑定   \n",
       "1  保密      NaT   NaN      NaN    NaN    NaN      NaN      已绑定          未绑定   \n",
       "2  保密      NaT   NaN      NaN    NaN    NaN      NaN      未绑定          已绑定   \n",
       "3  保密      NaT   NaN      NaN    NaN    NaN      NaN      已绑定          未绑定   \n",
       "4   男      NaT   NaN      NaN    NaN    NaN      NaN      已绑定          未绑定   \n",
       "\n",
       "  account_grade                    id  is_hobby_usertable  \\\n",
       "0          铜牌会员    588238879438409736                   0   \n",
       "1          铜牌会员    601460242772922632                   0   \n",
       "2          金牌会员    601137941405765640                   0   \n",
       "3          注册会员  20160429090002533592                   0   \n",
       "4          注册会员    613466575764197640                   0   \n",
       "\n",
       "   is_birthday_usertable  \n",
       "0                      0  \n",
       "1                      0  \n",
       "2                      0  \n",
       "3                      0  \n",
       "4                      0  "
      ]
     },
     "execution_count": 12,
     "metadata": {},
     "output_type": "execute_result"
    }
   ],
   "source": [
    "#%%用户信息表特征    120929 x 12\n",
    "\n",
    "\n",
    "# {sex:'性别',birthday:'出生日期',hobby:'兴趣爱好',merriage:'婚姻状况',income:'收入水平',\n",
    "# id_card:'身份证号',degree:'学历',industry:'行业',qq_bound:'是否绑定qq',wechat_bound:'是否绑定微信',account_grade:'会员级别'}\n",
    "\n",
    "train_user = pd.read_csv('AI_risk_train_V3.0/train_user_info.csv')\n",
    "#train_user = train_user.drop(['merriage','income','id_card','degree','industry'],axis=1)\n",
    "train_user = train_user.drop(['id_card'],axis=1)\n",
    "train_user['is_hobby_usertable'] = train_user['hobby'].map(lambda x:0 if str(x).lower()=='nan'  else 1)\n",
    "train_user['birthday'] = train_user['birthday'].map(lambda x:datetime.datetime.strptime(str(x),'%Y-%m-%d') if(re.match('19\\d{2}-\\d{1,2}-\\d{1,2}',str(x)) and '-0' not in str(x)) else pd.lib.NaT)\n",
    "train_user['is_birthday_usertable'] = train_user['birthday'].map(lambda x:0 if str(x).lower() == 'nat' else 1)\n",
    "\n",
    "train_user.head()"
   ]
  },
  {
   "cell_type": "code",
   "execution_count": 13,
   "metadata": {},
   "outputs": [],
   "source": [
    " #%%target表特征 : 120929 × 3 \n",
    "    \n",
    "#{target:'逾期标识，1逾期，0非逾期',appl_sbm_tm:'用户贷款申请的提交时间（此字段不能 作为模型的直接输入变量）'}\n",
    "train_target = pd.read_csv('AI_risk_train_V3.0/train_target.csv',parse_dates = ['appl_sbm_tm'])"
   ]
  },
  {
   "cell_type": "code",
   "execution_count": 14,
   "metadata": {},
   "outputs": [
    {
     "data": {
      "image/png": "[encoded data removed]",
      "text/plain": [
       "<matplotlib.figure.Figure at 0x2b0818736a0>"
      ]
     },
     "metadata": {},
     "output_type": "display_data"
    }
   ],
   "source": [
    "a = train_target.copy()\n",
    "a['appl_sbm_tm_date'] = a.appl_sbm_tm.apply(lambda x: x.date())\n",
    "# a =train_data_copy.groupby(['appl_sbm_tm_date'])['target'].agg({'count':'count'})\n",
    "b = pd.crosstab(index=a.appl_sbm_tm_date,columns=a.target)\n",
    "b.plot()\n",
    "plt.show()"
   ]
  },
  {
   "cell_type": "markdown",
   "metadata": {},
   "source": [
    "#### 融合多个特征表为训练集"
   ]
  },
  {
   "cell_type": "code",
   "execution_count": 15,
   "metadata": {},
   "outputs": [],
   "source": [
    "train_data = pd.merge(train_target,train_auth,on=['id'],how='left')\n",
    "train_data = pd.merge(train_data,train_user,on=['id'],how='left')\n",
    "train_data = pd.merge(train_data,train_credit,on=['id'],how='left')\n",
    "train_data['loan_hour'] = train_data['appl_sbm_tm'].map(lambda x:x.hour)\n",
    "train_data['loan_day'] = train_data['appl_sbm_tm'].map(lambda x:x.day)\n",
    "train_data['loan_month'] = train_data['appl_sbm_tm'].map(lambda x:x.month)\n",
    "train_data['loan_year'] = train_data['appl_sbm_tm'].map(lambda x:x.year)\n",
    "\n",
    "# 每一行的空值的个数\n",
    "train_data['nan_num'] = train_data.isnull().sum(axis=1) \n",
    "# 申请贷款距离认证时的间隔天数\n",
    "train_data['diff_day'] = train_data.apply(lambda row: (row['appl_sbm_tm'] - row['auth_time']).days,axis=1)\n",
    "# 贷款时的年龄\n",
    "train_data['how_old'] = train_data.apply(lambda row: (row['appl_sbm_tm'] - row['birthday']).days,axis=1)\n",
    "\n",
    "train_data['是否认证时间在借贷时间前'] = train_data.apply(lambda x:0 if (x['is_auth_time_authtable'] == 0) else ( 1 if x['auth_time'] < x['appl_sbm_tm'] else 0),axis=1)\n",
    "train_data['是否认证时间在借贷时间后'] = train_data.apply(lambda x:0 if (x['is_auth_time_authtable'] == 0) else ( 1 if x['auth_time'] > x['appl_sbm_tm'] else 0),axis=1)\n",
    "train_data['认证时间在借贷时间前多少天'] = train_data.apply(lambda x:0 if (x['是否认证时间在借贷时间前'] == 0) else (x['appl_sbm_tm'] - x['auth_time']).days,axis=1)\n",
    "train_data['认证时间在借贷时间后多少天'] = train_data.apply(lambda x:0 if (x['是否认证时间在借贷时间后'] == 0) else (x['auth_time'] - x['appl_sbm_tm']).days,axis=1)\n",
    "train_data = pd.merge(train_data,bank_name_setlen,on=['id'],how='left')\n",
    "train_data = pd.merge(train_data,bank_num_len,on=['id'],how='left')\n",
    "train_data = pd.merge(train_data,bank_phone_num_setlen,on=['id'],how='left')\n",
    "train_data = pd.merge(train_data,bank_card_type_score,on=['id'],how='left')"
   ]
  },
  {
   "cell_type": "code",
   "execution_count": null,
   "metadata": {},
   "outputs": [],
   "source": []
  },
  {
   "cell_type": "code",
   "execution_count": 16,
   "metadata": {},
   "outputs": [],
   "source": [
    "#%%为订单表建立临时表1\n",
    "\n",
    "tmp_train_order = pd.merge(train_order, train_target, on = ['id'])\n",
    "# 下单在借款前\n",
    "tmp_train_order_before_appl_sbm_tm = tmp_train_order[tmp_train_order.time_order_ordertable < tmp_train_order.appl_sbm_tm]\n",
    "# 下单在借款后\n",
    "tmp_train_order_after_appl_sbm_tm = tmp_train_order[tmp_train_order.time_order_ordertable > tmp_train_order.appl_sbm_tm]\n",
    "before_appl_sbm_tm_howmany = tmp_train_order_before_appl_sbm_tm.groupby(by=['id'],as_index=False)['amt_order_ordertable'].agg({'借贷时间前有多少次购买':len})\n",
    "after_appl_sbm_tm_howmany = tmp_train_order_after_appl_sbm_tm.groupby(by=['id'],as_index=False)['amt_order_ordertable'].agg({'借贷时间后有多少次购买':len})\n",
    "before_appl_sbm_tm_money_mean = tmp_train_order_before_appl_sbm_tm.groupby(by=['id'],as_index=False)['amt_order_ordertable'].agg({'借贷时间前购买平均花费':np.mean})\n",
    "after_appl_sbm_tm_money_mean = tmp_train_order_after_appl_sbm_tm.groupby(by=['id'],as_index=False)['amt_order_ordertable'].agg({'借贷时间后购买平均花费':np.mean})\n",
    "before_appl_sbm_tm_money_max = tmp_train_order_before_appl_sbm_tm.groupby(by=['id'],as_index=False)['amt_order_ordertable'].agg({'借贷时间前购买花费最大值':np.max})\n",
    "after_appl_sbm_tm_money_min = tmp_train_order_after_appl_sbm_tm.groupby(by=['id'],as_index=False)['amt_order_ordertable'].agg({'借贷时间后购买花费最小值':np.min})\n"
   ]
  },
  {
   "cell_type": "code",
   "execution_count": 17,
   "metadata": {},
   "outputs": [],
   "source": [
    "##建立银行违约率临时表\n",
    "\n",
    "tmp_bank_target = pd.merge(train_bankcard,train_target,on=['id'])\n",
    "ccc = pd.crosstab(tmp_bank_target.bank_name, tmp_bank_target.target)\n",
    "ccc['违约率'] = ccc[1] / (ccc[0]+0.1)\n",
    "ccc.reset_index(inplace=True)\n",
    "tmp_bank_target = pd.merge(tmp_bank_target, ccc,on = ['bank_name'],how='left')\n",
    "bank_name_score_mean = tmp_bank_target.groupby(by= ['id'], as_index = False)['违约率'].agg({'违约率_mean':np.mean})"
   ]
  },
  {
   "cell_type": "code",
   "execution_count": 18,
   "metadata": {},
   "outputs": [],
   "source": [
    "###建立收货地违约率临时表\n",
    "# tmp_recieve_target = pd.merge(train_recieve,train_target,on=['id'])\n",
    "# ccc = pd.crosstab(tmp_recieve_target.first_name, tmp_recieve_target.target)\n",
    "# ccc['recieve违约率'] = ccc[1] / (ccc[0]+0.1)\n",
    "# ccc.reset_index(inplace=True)\n",
    "# tmp_recieve_target = pd.merge(tmp_recieve_target, ccc,on = ['first_name'],how='left')\n",
    "# recieve_score_mean = tmp_recieve_target.groupby(by= ['id'], as_index = False)['recieve违约率'].agg({'recieve违约率_mean':np.mean})\n",
    "# train_data = pd.merge(train_data,recieve_score_mean,on=['id'],how='left')\n"
   ]
  },
  {
   "cell_type": "code",
   "execution_count": 19,
   "metadata": {},
   "outputs": [],
   "source": [
    "train_data = pd.merge(train_data,bank_name_score_mean,on=['id'],how='left')\n",
    "train_data = pd.merge(train_data,before_appl_sbm_tm_howmany,on=['id'],how='left')\n",
    "train_data = pd.merge(train_data,after_appl_sbm_tm_howmany,on=['id'],how='left')\n",
    "train_data = pd.merge(train_data,before_appl_sbm_tm_money_mean,on=['id'],how='left')\n",
    "train_data = pd.merge(train_data,after_appl_sbm_tm_money_mean,on=['id'],how='left')\n",
    "train_data = pd.merge(train_data,before_appl_sbm_tm_money_max,on=['id'],how='left')\n",
    "train_data = pd.merge(train_data,after_appl_sbm_tm_money_min,on=['id'],how='left')\n",
    "\n",
    "\n",
    "# train_data = pd.merge(train_data,before_appl_sbm_tm_howmany_unitprice,on=['id'],how='left')\n",
    "# train_data = pd.merge(train_data,after_appl_sbm_tm_howmany_unitprice,on=['id'],how='left')\n",
    "# train_data = pd.merge(train_data,before_appl_sbm_tm_money_mean_unitprice,on=['id'],how='left')\n",
    "# train_data = pd.merge(train_data,after_appl_sbm_tm_money_mean_unitprice,on=['id'],how='left')\n",
    "# train_data = pd.merge(train_data,before_appl_sbm_tm_money_max_unitprice,on=['id'],how='left')\n",
    "# train_data = pd.merge(train_data,after_appl_sbm_tm_money_min_unitprice,on=['id'],how='left')\n",
    "\n"
   ]
  },
  {
   "cell_type": "code",
   "execution_count": 20,
   "metadata": {},
   "outputs": [
    {
     "data": {
      "text/plain": [
       "(120929, 47)"
      ]
     },
     "execution_count": 20,
     "metadata": {},
     "output_type": "execute_result"
    }
   ],
   "source": [
    "train_data.shape"
   ]
  },
  {
   "cell_type": "code",
   "execution_count": 21,
   "metadata": {},
   "outputs": [],
   "source": [
    "train_data.to_csv(\"AI_risk_train_V3.0/train_data.csv\",index=None,encoding=\"gb2312\")"
   ]
  },
  {
   "cell_type": "code",
   "execution_count": 22,
   "metadata": {},
   "outputs": [
    {
     "data": {
      "text/plain": [
       "(120929, 47)"
      ]
     },
     "execution_count": 22,
     "metadata": {},
     "output_type": "execute_result"
    }
   ],
   "source": [
    "train_data_copy = train_data.copy()\n",
    "train_data_copy.shape"
   ]
  },
  {
   "cell_type": "code",
   "execution_count": 23,
   "metadata": {},
   "outputs": [
    {
     "name": "stdout",
     "output_type": "stream",
     "text": [
      "(88078, 40)\n"
     ]
    }
   ],
   "source": [
    "train_data_copy = train_data_copy.fillna(0)\n",
    "train_data_copy = train_data_copy[train_data_copy.appl_sbm_tm >= datetime.datetime(2017,1,1)]\n",
    "train_data_copy = train_data_copy.drop(['appl_sbm_tm','id','auth_time','phone','birthday','hobby','id_card'],axis=1)\n",
    "print(train_data_copy.shape)"
   ]
  },
  {
   "cell_type": "code",
   "execution_count": 24,
   "metadata": {},
   "outputs": [],
   "source": [
    "def xgb_feature(train_set_x,train_set_y,test_set_x,test_set_y):\n",
    "    # 模型参数\n",
    "    params = {'booster': 'gbtree',\n",
    "              'objective':'rank:pairwise',\n",
    "              'eval_metric' : 'auc',\n",
    "              'eta': 0.02,# 如同学习率\n",
    "              'max_depth': 5,  # 4 3# 构建树的深度，越大越容易过拟合\n",
    "              'colsample_bytree': 0.7,#0.8 # 生成树时进行的列采样\n",
    "              'subsample': 0.7, # 随机采样训练样本\n",
    "              'min_child_weight': 1,  # 2 3\n",
    "              'silent':1# 设置成1则没有运行信息输出，最好是设置为0\n",
    "              }\n",
    "\n",
    "    dtrain = xgb.DMatrix(train_set_x, label=train_set_y)\n",
    "    dvali = xgb.DMatrix(test_set_x)\n",
    "    model = xgb.train(params, dtrain, num_boost_round=800)\n",
    "    predict = model.predict(dvali)\n",
    "    return predict"
   ]
  },
  {
   "cell_type": "markdown",
   "metadata": {},
   "source": [
    "### 通过XGBoost计算各特征的重要性"
   ]
  },
  {
   "cell_type": "code",
   "execution_count": 37,
   "metadata": {},
   "outputs": [
    {
     "name": "stderr",
     "output_type": "stream",
     "text": [
      "Exception ignored in: <bound method DMatrix.__del__ of <xgboost.core.DMatrix object at 0x000002B0B183F0F0>>\n",
      "Traceback (most recent call last):\n",
      "  File \"c:\\software\\python\\programs\\python\\python35\\lib\\site-packages\\xgboost\\core.py\", line 482, in __del__\n",
      "    if self.handle is not None:\n",
      "AttributeError: 'DMatrix' object has no attribute 'handle'\n"
     ]
    }
   ],
   "source": [
    "X = train_data.copy()\n",
    "X = X.drop(['appl_sbm_tm','id','auth_time','phone','birthday','hobby','id_card'],axis=1)\n",
    "# X['sex'] = X['sex'].map({'保密': 0, '男': 1, '女': 2})\n",
    "# X['qq_bound'] = X['qq_bound'].map({'已绑定': 1, '未绑定': 0})\n",
    "# X['wechat_bound'] = X['wechat_bound'].map({'已绑定': 1, '未绑定': 0})\n",
    "# X['account_grade'] = X['account_grade'].map({'注册会员': 0, '铜牌会员': 1, '银牌会员': 2, '金牌会员': 3, '钻石会员': 4})\n",
    "dummy_fea = ['sex', 'merriage', 'income', 'qq_bound', 'degree', 'wechat_bound','account_grade','industry']\n",
    "for _fea in dummy_fea:\n",
    "    #print(_fea)\n",
    "    le = LabelEncoder()\n",
    "    X[_fea] = le.fit_transform(X[_fea].tolist())\n",
    "X = X.fillna(0)\n",
    "y = X['target']\n",
    "X = X.drop(['target'],axis=1)\n"
   ]
  },
  {
   "cell_type": "code",
   "execution_count": 39,
   "metadata": {},
   "outputs": [
    {
     "data": {
      "text/plain": [
       "(120929, 39)"
      ]
     },
     "execution_count": 39,
     "metadata": {},
     "output_type": "execute_result"
    }
   ],
   "source": [
    "X.shape"
   ]
  },
  {
   "cell_type": "code",
   "execution_count": 40,
   "metadata": {},
   "outputs": [],
   "source": [
    "from sklearn.feature_selection import SelectFromModel"
   ]
  },
  {
   "cell_type": "code",
   "execution_count": 41,
   "metadata": {},
   "outputs": [
    {
     "data": {
      "image/png": "[encoded data removed]",
      "text/plain": [
       "<matplotlib.figure.Figure at 0x2b0855f41d0>"
      ]
     },
     "metadata": {},
     "output_type": "display_data"
    }
   ],
   "source": [
    "model = XGBClassifier()\n",
    "model.fit(X, y)\n",
    "# plot feature importance\n",
    "\n",
    "fig, ax = plt.subplots(1,1,figsize=(10,10))\n",
    "xgb.plot_importance(model, ax=ax)\n",
    "#xgb.plot_importance(model,fi)\n",
    "plt.show()\n"
   ]
  },
  {
   "cell_type": "markdown",
   "metadata": {},
   "source": [
    "####  利用测试集通过xgb验证模型的正确率"
   ]
  },
  {
   "cell_type": "code",
   "execution_count": 46,
   "metadata": {},
   "outputs": [],
   "source": [
    "#['sex', 'qq_bound', 'wechat_bound','account_grade']  :valid auc 0.8146845247722581\n",
    "dummy_fea = ['sex', 'merriage', 'income', 'qq_bound', 'degree', 'wechat_bound','account_grade','industry']\n",
    "dummy_df1 = pd.get_dummies(train_data.loc[:,dummy_fea])\n",
    "train_data_copy1 = pd.concat([train_data,dummy_df1],axis=1)\n",
    "train_data_copy1 = train_data_copy1.fillna(0)\n",
    "vaild_train_data1 = train_data_copy1.drop(dummy_fea,axis=1)\n",
    "\n",
    "# 使用贷款时间在2017-4-1之前的数据为训练集\n",
    "valid_train_train1 = vaild_train_data1[vaild_train_data1.appl_sbm_tm < datetime.datetime(2017,4,1)]\n",
    "# 使用贷款时间在2017-4-1之后的数据为训练集\n",
    "valid_train_test1 = vaild_train_data1[vaild_train_data1.appl_sbm_tm >= datetime.datetime(2017,4,1)]\n",
    "\n",
    "valid_train_train1 = valid_train_train1.drop(['appl_sbm_tm','id','auth_time','phone','birthday','hobby','id_card'],axis=1)\n",
    "valid_train_test1 = valid_train_test1.drop(['appl_sbm_tm','id','auth_time','phone','birthday','hobby','id_card'],axis=1)\n",
    "vaild_train_x1 = valid_train_train1.drop(['target'],axis=1)\n",
    "vaild_test_x1 = valid_train_test1.drop(['target'],axis=1)\n",
    "\n"
   ]
  },
  {
   "cell_type": "code",
   "execution_count": 47,
   "metadata": {
    "scrolled": false
   },
   "outputs": [
    {
     "name": "stdout",
     "output_type": "stream",
     "text": [
      "valid auc 0.8149717421354578\n"
     ]
    },
    {
     "ename": "SystemExit",
     "evalue": "23",
     "output_type": "error",
     "traceback": [
      "An exception has occurred, use %tb to see the full traceback.\n",
      "\u001b[1;31mSystemExit\u001b[0m\u001b[1;31m:\u001b[0m 23\n"
     ]
    }
   ],
   "source": [
    "redict_result1 = xgb_feature(vaild_train_x1,valid_train_train1['target'].values,vaild_test_x1,None)\n",
    "print('valid auc',roc_auc_score(valid_train_test1['target'].values,redict_result1))\n",
    "sys.exit(23)\n"
   ]
  },
  {
   "cell_type": "markdown",
   "metadata": {},
   "source": [
    "### 计算auc的方法\n",
    "\n",
    "与sklearn中的roc_auc_score函数计算结果一致"
   ]
  },
  {
   "cell_type": "code",
   "execution_count": 48,
   "metadata": {},
   "outputs": [],
   "source": [
    "def cal_auc(list_one, list_two):\n",
    "    '''计算AUC值'''\n",
    "    positive = []\n",
    "    negative = []\n",
    "    for index in range(len(list_one)):\n",
    "        if list_one[index] == 1:\n",
    "            positive.append(index)\n",
    "        else:\n",
    "            negative.append(index)\n",
    "    SUM = 0\n",
    "    for i in positive:\n",
    "        for j in negative:\n",
    "            if list_two[i] > list_two[j]:\n",
    "                SUM += 1\n",
    "            elif list_two[i] == list_two[j]:\n",
    "                SUM += 0.5\n",
    "            else:\n",
    "                pass\n",
    "    return SUM / (len(positive)*len(negative))"
   ]
  },
  {
   "cell_type": "code",
   "execution_count": 49,
   "metadata": {
    "scrolled": true
   },
   "outputs": [
    {
     "data": {
      "text/plain": [
       "0.8149717421354576"
      ]
     },
     "execution_count": 49,
     "metadata": {},
     "output_type": "execute_result"
    }
   ],
   "source": [
    "cal_auc(valid_train_test1['target'].values,redict_result1)"
   ]
  },
  {
   "cell_type": "markdown",
   "metadata": {},
   "source": [
    "#### 测试集"
   ]
  },
  {
   "cell_type": "code",
   "execution_count": 50,
   "metadata": {},
   "outputs": [],
   "source": [
    "#%%认证表特征\n",
    "test_auth = pd.read_csv('AI_risk_test_V3.0/test_auth_info.csv',parse_dates = ['auth_time'])\n",
    "#注册时是否有时间\n",
    "test_auth['is_auth_time_authtable'] = test_auth['auth_time'].map(lambda x:0 if ((str(x).lower()=='nat')|(str(x).lower()=='nan')|(str(x)=='0000-00-00'))  else 1)\n",
    "#注册时是否有idcard\n",
    "test_auth['is_idcard_authtable'] = test_auth['id_card'].map(lambda x:0 if str(x).lower()=='nan' else 1)\n",
    "\n",
    "#注册时是否有phone\n",
    "test_auth['is_phone_authtable'] = test_auth['phone'].map(lambda x:0 if str(x).lower()=='nan' else 1)\n",
    "test_auth['auth_time'].replace('0000-00-00',np.nan,inplace=True)\n",
    "test_auth['auth_time'] = pd.to_datetime(test_auth['auth_time'])\n",
    "\n",
    "\n",
    "#%%银行卡特征\n",
    "test_bankcard = pd.read_csv('AI_risk_test_V3.0/test_bankcard_info.csv')\n",
    "bank_name_setlen = test_bankcard.groupby(by= ['id'], as_index= False)['bank_name'].agg({'bank_name_len':lambda x:len(set(x))})\n",
    "bank_num_len = test_bankcard.groupby(by= ['id'], as_index = False)['tail_num'].agg({'tail_num_len':lambda x:len(x)})\n",
    "bank_phone_num_setlen = test_bankcard.groupby(by= ['id'], as_index = False)['phone'].agg({'bank_phone_num':lambda x:x.nunique()})\n",
    "test_bankcard['card_type_score'] = test_bankcard['card_type'].map(lambda x:0.0154925 if x=='信用卡' else 0.02607069)\n",
    "bank_card_type_score = test_bankcard.groupby(by= ['id'], as_index = False)['card_type_score'].agg({'card_type_score_mean':np.mean})\n",
    "\n",
    "#%%信誉表特征\n",
    "test_credit = pd.read_csv('AI_risk_test_V3.0/test_credit_info.csv')\n",
    "#额度-使用值\n",
    "test_credit['can_use_credittable'] = test_credit['quota'] - test_credit['overdraft']\n",
    "\n",
    "#%%订单表特征\n",
    "test_order = pd.read_csv('AI_risk_test_V3.0/test_order_info.csv',parse_dates=['time_order'])\n",
    "test_order['amt_order_ordertable'] = test_order['amt_order'].map(lambda x:np.nan if ((x == 'NA')| (x == 'null')) else float(x))\n",
    "test_order['unit_price_ordertable'] = test_order['unit_price'].map(lambda x:np.nan if ((x == 'NA')| (x == 'null')) else float(x))\n",
    "test_order['time_order_ordertable'] = test_order['time_order'].map(lambda x : pd.lib.NaT if (str(x) == '0' or x == 'NA' or x == 'nan')\n",
    "                            else (datetime.datetime.strptime(str(x),'%Y-%m-%d %H:%M:%S') if ':' in str(x)\n",
    "                            else (datetime.datetime.utcfromtimestamp(int(x[0:10])) + datetime.timedelta(hours = 8))))\n",
    "\n",
    "\n",
    "\n",
    "\n",
    "#%%收货地址特征\n",
    "test_recieve = pd.read_csv('AI_risk_test_V3.0/test_recieve_addr_info.csv')\n",
    "\n",
    "\n",
    "#%%target表特征\n",
    "test_target = pd.read_csv('AI_risk_test_V3.0/test_list.csv',parse_dates = ['appl_sbm_tm'])\n",
    "\n",
    "\n",
    "#%%用户表特征\n",
    "test_user = pd.read_csv('AI_risk_test_V3.0/test_user_info.csv')\n",
    "#test_user = test_user.drop(['merriage','income','id_card','degree','industry'],axis=1)\n",
    "test_user = test_user.drop(['id_card'],axis=1)\n",
    "test_user['is_hobby_usertable'] = test_user['hobby'].map(lambda x:0 if str(x)=='nan' else 1)\n",
    "test_user['is_birthday_usertable'] = test_user['birthday'].map(lambda x:0 if str(x)=='nan' else 1)\n",
    "test_user['birthday'] = test_user['birthday'].map(lambda x:datetime.datetime.strptime(str(x),'%Y-%m-%d') if(re.match('19\\d{2}-\\d{1,2}-\\d{1,2}',str(x)) and '-0' not in str(x)) else pd.lib.NaT)\n",
    "\n"
   ]
  },
  {
   "cell_type": "code",
   "execution_count": 51,
   "metadata": {},
   "outputs": [],
   "source": [
    "test_data = pd.merge(test_target,test_auth,on=['id'],how='left')\n",
    "test_data = pd.merge(test_data,test_user,on=['id'],how='left')\n",
    "test_data = pd.merge(test_data,test_credit,on=['id'],how='left')\n",
    "test_data['loan_hour'] = test_data['appl_sbm_tm'].map(lambda x:x.hour)\n",
    "test_data['loan_day'] = test_data['appl_sbm_tm'].map(lambda x:x.day)\n",
    "test_data['loan_month'] = test_data['appl_sbm_tm'].map(lambda x:x.month)\n",
    "test_data['loan_year'] = test_data['appl_sbm_tm'].map(lambda x:x.year)\n",
    "test_data['nan_num'] = test_data.isnull().sum(axis=1)\n",
    "test_data['diff_day'] = test_data.apply(lambda row: (row['appl_sbm_tm'] - row['auth_time']).days,axis=1)\n",
    "test_data['how_old'] = test_data.apply(lambda row: (row['appl_sbm_tm'] - row['birthday']).days,axis=1)\n",
    "test_data['是否认证时间在借贷时间前'] = test_data.apply(lambda x:0 if (x['is_auth_time_authtable'] == 0) else ( 1 if x['auth_time'] < x['appl_sbm_tm'] else 0),axis=1)\n",
    "test_data['是否认证时间在借贷时间后'] = test_data.apply(lambda x:0 if (x['is_auth_time_authtable'] == 0) else ( 1 if x['auth_time'] > x['appl_sbm_tm'] else 0),axis=1)\n",
    "test_data['认证时间在借贷时间前多少天'] = test_data.apply(lambda x:0 if (x['是否认证时间在借贷时间前'] == 0) else (x['appl_sbm_tm'] - x['auth_time']).days,axis=1)\n",
    "test_data['认证时间在借贷时间后多少天'] = test_data.apply(lambda x:0 if (x['是否认证时间在借贷时间后'] == 0) else (x['auth_time'] - x['appl_sbm_tm']).days,axis=1)\n",
    "test_data = pd.merge(test_data,bank_name_setlen,on=['id'],how='left')\n",
    "test_data = pd.merge(test_data,bank_num_len,on=['id'],how='left')\n",
    "test_data = pd.merge(test_data,bank_phone_num_setlen,on=['id'],how='left')\n",
    "test_data = pd.merge(test_data,bank_card_type_score,on=['id'],how='left')"
   ]
  },
  {
   "cell_type": "code",
   "execution_count": 52,
   "metadata": {},
   "outputs": [],
   "source": [
    "#%%为订单表建立临时表\n",
    "tmp_test_order = pd.merge(test_order, test_target, on = ['id'])\n",
    "tmp_test_order_before_appl_sbm_tm = tmp_test_order[tmp_test_order.time_order_ordertable < tmp_test_order.appl_sbm_tm]\n",
    "tmp_test_order_after_appl_sbm_tm = tmp_test_order[tmp_test_order.time_order_ordertable > tmp_test_order.appl_sbm_tm]\n",
    "before_appl_sbm_tm_howmany = tmp_test_order_before_appl_sbm_tm.groupby(by=['id'],as_index=False)['amt_order_ordertable'].agg({'借贷时间前有多少次购买':len})\n",
    "after_appl_sbm_tm_howmany = tmp_test_order_after_appl_sbm_tm.groupby(by=['id'],as_index=False)['amt_order_ordertable'].agg({'借贷时间后有多少次购买':len})\n",
    "before_appl_sbm_tm_money_mean = tmp_test_order_before_appl_sbm_tm.groupby(by=['id'],as_index=False)['amt_order_ordertable'].agg({'借贷时间前有多少次购买':np.mean})\n",
    "after_appl_sbm_tm_money_mean = tmp_test_order_after_appl_sbm_tm.groupby(by=['id'],as_index=False)['amt_order_ordertable'].agg({'借贷时间后有多少次购买':np.mean})\n",
    "before_appl_sbm_tm_money_max = tmp_test_order_before_appl_sbm_tm.groupby(by=['id'],as_index=False)['amt_order_ordertable'].agg({'借贷时间前有多少次购买最大值':np.max})\n",
    "after_appl_sbm_tm_money_min = tmp_test_order_after_appl_sbm_tm.groupby(by=['id'],as_index=False)['amt_order_ordertable'].agg({'借贷时间后有多少次购买最小值':np.min})\n",
    "\n",
    "# before_appl_sbm_tm_howmany_unitprice = tmp_test_order_before_appl_sbm_tm.groupby(by=['id'],as_index=False)['unit_price_ordertable'].agg({'借贷时间前有多少次购买unit_price':len})\n",
    "# after_appl_sbm_tm_howmany_unitprice = tmp_test_order_after_appl_sbm_tm.groupby(by=['id'],as_index=False)['unit_price_ordertable'].agg({'借贷时间后有多少次购买unit_price':len})\n",
    "# before_appl_sbm_tm_money_mean_unitprice = tmp_test_order_before_appl_sbm_tm.groupby(by=['id'],as_index=False)['unit_price_ordertable'].agg({'借贷时间前有多少次购买unit_price':np.mean})\n",
    "# after_appl_sbm_tm_money_mean_unitprice = tmp_test_order_after_appl_sbm_tm.groupby(by=['id'],as_index=False)['unit_price_ordertable'].agg({'借贷时间后有多少次购买unit_price':np.mean})\n",
    "# before_appl_sbm_tm_money_max_unitprice = tmp_test_order_before_appl_sbm_tm.groupby(by=['id'],as_index=False)['unit_price_ordertable'].agg({'借贷时间前有多少次购买最大值unit_price':np.max})\n",
    "# after_appl_sbm_tm_money_min_unitprice = tmp_test_order_after_appl_sbm_tm.groupby(by=['id'],as_index=False)['unit_price_ordertable'].agg({'借贷时间后有多少次购买最小值unit_price':np.min})\n",
    "\n",
    "\n",
    "###建立银行违约率临时表\n",
    "\n",
    "test_data = pd.merge(test_data,bank_name_score_mean,on=['id'],how='left')\n",
    "\n",
    "\n",
    "test_data = pd.merge(test_data,before_appl_sbm_tm_howmany,on=['id'],how='left')\n",
    "test_data = pd.merge(test_data,after_appl_sbm_tm_howmany,on=['id'],how='left')\n",
    "test_data = pd.merge(test_data,before_appl_sbm_tm_money_mean,on=['id'],how='left')\n",
    "test_data = pd.merge(test_data,after_appl_sbm_tm_money_mean,on=['id'],how='left')\n",
    "test_data = pd.merge(test_data,before_appl_sbm_tm_money_max,on=['id'],how='left')\n",
    "test_data = pd.merge(test_data,after_appl_sbm_tm_money_min,on=['id'],how='left')\n",
    "\n",
    "# test_data = pd.merge(test_data,before_appl_sbm_tm_howmany_unitprice,on=['id'],how='left')\n",
    "# test_data = pd.merge(test_data,after_appl_sbm_tm_howmany_unitprice,on=['id'],how='left')\n",
    "# test_data = pd.merge(test_data,before_appl_sbm_tm_money_mean_unitprice,on=['id'],how='left')\n",
    "# test_data = pd.merge(test_data,after_appl_sbm_tm_money_mean_unitprice,on=['id'],how='left')\n",
    "# test_data = pd.merge(test_data,before_appl_sbm_tm_money_max_unitprice,on=['id'],how='left')\n",
    "# test_data = pd.merge(test_data,after_appl_sbm_tm_money_min_unitprice,on=['id'],how='left')\n"
   ]
  },
  {
   "cell_type": "code",
   "execution_count": 53,
   "metadata": {},
   "outputs": [
    {
     "data": {
      "text/plain": [
       "(52017, 46)"
      ]
     },
     "execution_count": 53,
     "metadata": {},
     "output_type": "execute_result"
    }
   ],
   "source": [
    "test_data_copy =test_data.copy()\n",
    "test_data_copy.shape"
   ]
  },
  {
   "cell_type": "code",
   "execution_count": 54,
   "metadata": {},
   "outputs": [],
   "source": [
    "test_data_copy.to_csv(\"AI_risk_test_V3.0/test_data.csv\",index=None,encoding=\"gb2312\")"
   ]
  },
  {
   "cell_type": "code",
   "execution_count": 55,
   "metadata": {},
   "outputs": [
    {
     "data": {
      "text/plain": [
       "(52017, 40)"
      ]
     },
     "execution_count": 55,
     "metadata": {},
     "output_type": "execute_result"
    }
   ],
   "source": [
    "test_data_copy = test_data_copy.drop(['appl_sbm_tm','id','auth_time','phone','birthday','hobby','id_card'],axis=1)\n",
    "test_data_copy['target'] = -1\n",
    "\n",
    "test_data_copy.shape"
   ]
  },
  {
   "cell_type": "code",
   "execution_count": 56,
   "metadata": {},
   "outputs": [
    {
     "data": {
      "text/plain": [
       "(88078, 40)"
      ]
     },
     "execution_count": 56,
     "metadata": {},
     "output_type": "execute_result"
    }
   ],
   "source": [
    "train_data_copy.shape"
   ]
  },
  {
   "cell_type": "code",
   "execution_count": 57,
   "metadata": {},
   "outputs": [],
   "source": [
    "# ['sex', 'qq_bound', 'wechat_bound','account_grade']\n",
    "dummy_fea =['sex', 'merriage', 'income', 'qq_bound', 'degree', 'wechat_bound','account_grade','industry']\n",
    "train_test_data = pd.concat([train_data_copy,test_data_copy],axis=0,ignore_index = True)\n",
    "train_test_data = train_test_data.fillna(0)\n",
    "dummy_df = pd.get_dummies(train_test_data.loc[:,dummy_fea])\n",
    "\n",
    "train_test_data = pd.concat([train_test_data,dummy_df],axis=1)\n",
    "train_test_data = train_test_data.drop(dummy_fea,axis=1)\n",
    "\n",
    "train_train = train_test_data.iloc[:train_data_copy.shape[0],:]\n",
    "test_test = train_test_data.iloc[train_data_copy.shape[0]:,:]\n",
    "\n",
    "\n",
    "train_train_x = train_train.drop(['target'],axis=1)\n",
    "test_test_x = test_test.drop(['target'],axis=1)\n",
    "\n",
    "\n",
    "predict_result = xgb_feature(train_train_x,train_train['target'].values,test_test_x,None)"
   ]
  },
  {
   "cell_type": "code",
   "execution_count": 58,
   "metadata": {},
   "outputs": [
    {
     "data": {
      "text/plain": [
       "52017"
      ]
     },
     "execution_count": 58,
     "metadata": {},
     "output_type": "execute_result"
    }
   ],
   "source": [
    "len(predict_result)"
   ]
  },
  {
   "cell_type": "code",
   "execution_count": 59,
   "metadata": {},
   "outputs": [],
   "source": [
    "ans = pd.read_csv('AI_risk_test_V3.0/test_list.csv',parse_dates = ['appl_sbm_tm'])\n",
    "\n",
    "ans['PROB'] = predict_result\n",
    "ans = ans.drop(['appl_sbm_tm'],axis=1)\n",
    "minmin, maxmax = min(ans['PROB']),max(ans['PROB'])\n",
    "ans['PROB'] = ans['PROB'].map(lambda x:(x-minmin)/(maxmax-minmin))\n",
    "ans['PROB'] = ans['PROB'].map(lambda x:'%.4f' % x)\n"
   ]
  },
  {
   "cell_type": "code",
   "execution_count": 60,
   "metadata": {},
   "outputs": [],
   "source": [
    "ans.to_csv('result/rebuild.csv',index=None)"
   ]
  }
 ],
 "metadata": {
  "kernelspec": {
   "display_name": "Python 3",
   "language": "python",
   "name": "python3"
  },
  "language_info": {
   "codemirror_mode": {
    "name": "ipython",
    "version": 3
   },
   "file_extension": ".py",
   "mimetype": "text/x-python",
   "name": "python",
   "nbconvert_exporter": "python",
   "pygments_lexer": "ipython3",
   "version": "3.5.4"
  }
 },
 "nbformat": 4,
 "nbformat_minor": 2
}
